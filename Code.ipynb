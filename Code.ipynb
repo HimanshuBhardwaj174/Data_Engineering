{
 "cells": [
  {
   "cell_type": "code",
   "execution_count": 2,
   "id": "98704daa-da9d-4a51-8a39-dbb7e63f2433",
   "metadata": {},
   "outputs": [],
   "source": [
    "import ndjson\n",
    "import numpy as np\n",
    "from datetime import datetime\n",
    "import pandas as pd"
   ]
  },
  {
   "cell_type": "markdown",
   "id": "5d2d23c0-cf18-41fe-af55-b6d6eb5585f6",
   "metadata": {},
   "source": [
    "# Importing Data"
   ]
  },
  {
   "cell_type": "code",
   "execution_count": 3,
   "id": "dc192243-9621-426e-a3e0-3cfed7625758",
   "metadata": {},
   "outputs": [],
   "source": [
    "with open('./mimic-fhir/Patient.ndjson') as file:\n",
    "    data = ndjson.load(file)\n",
    "with open('./mimic-fhir/Condition.ndjson') as file:\n",
    "    condition_data = ndjson.load(file)\n",
    "with open('./mimic-fhir/Encounter.ndjson') as file:\n",
    "    encounter_data = ndjson.load(file)\n",
    "with open('./mimic-fhir/EncounterICU.ndjson') as file:\n",
    "    encounter_icu_data = ndjson.load(file)\n",
    "    "
   ]
  },
  {
   "cell_type": "code",
   "execution_count": 4,
   "id": "48136184-4d07-4a99-a89e-7ff960d0fb3a",
   "metadata": {},
   "outputs": [],
   "source": [
    "patient_id =[] #creating list of patient_id\n",
    "for i in range(len(data)):\n",
    "    patient_id.append(data[i]['id'])\n"
   ]
  },
  {
   "cell_type": "code",
   "execution_count": 5,
   "id": "20deccff-074c-4571-b15d-b522fd46f865",
   "metadata": {},
   "outputs": [
    {
     "data": {
      "text/plain": [
       "['0a8eebfd-a352-522e-89f0-1d4a13abdebc',\n",
       " '0c2243d2-987b-5cbd-8eb1-170a80647693',\n",
       " '13df78e7-150e-5eb7-be5f-5f62b2baee87',\n",
       " '158f3a39-e3d7-5e7a-93aa-57af894aadd9',\n",
       " '1ab119a5-aac8-5002-9d2f-b8ff69623387']"
      ]
     },
     "execution_count": 5,
     "metadata": {},
     "output_type": "execute_result"
    }
   ],
   "source": [
    "patient_id[:5]"
   ]
  },
  {
   "cell_type": "markdown",
   "id": "feb8e23a-2a74-4896-a897-ebdbe46cdac9",
   "metadata": {},
   "source": [
    "# Creating Dictionary "
   ]
  },
  {
   "cell_type": "markdown",
   "id": "45cdbb17-7521-4351-8d5a-51295f5b735e",
   "metadata": {},
   "source": [
    "## This is the format of the dictionay\n",
    "<code>\r\n",
    "{\r\n",
    "    \"patient_id_1\": [\r\n",
    "        {\r\n",
    "            \"condition_json\": {...},\r\n",
    "            \"estimated_time\": \"2022-01-15T09:30:00Z\"\r\n",
    "        },\r\n",
    "        {\r\n",
    "            \"condition_json\": {...},\r\n",
    "            \"estimated_time\": \"2022-03-20T14:45:00Z\"\r\n",
    "        },\r\n",
    "        ...\r\n",
    "    ],\r\n",
    "    \"patient_id_2\": [\r\n",
    "        {\r\n",
    "            \"condition_json\": {...},\r\n",
    "            \"estimated_time\": \"2021-08-02T11:15:00Z\"\r\n",
    "        },\r\n",
    "        ...\r\n",
    "    ],\r\n",
    "    ...\r\n",
    "}\r\n",
    "</code>\r\n",
    "\n",
    "    ],\r\n",
    "    ...\r\n",
    "}\r\n",
    "...\r\n",
    "}\r\n",
    "\\end{verbatim}"
   ]
  },
  {
   "cell_type": "code",
   "execution_count": 6,
   "id": "c676aaac-9912-40d5-98ea-8eefd8b1c971",
   "metadata": {},
   "outputs": [],
   "source": [
    "dict ={} #Dictionary which stores patient_id as key and other parameters as value\n",
    "for id in patient_id:\n",
    "    list = [] # To store value of specific patient_id\n",
    "    for cond in condition_data:\n",
    "        cond_dict={} #To store each condition and its estimated time\n",
    "        if (id == cond['subject']['reference'][8:]): \n",
    "            cond_dict['condition_json'] = cond\n",
    "            i_d = (cond['encounter']['reference'][10:])\n",
    "            for encou in encounter_data:\n",
    "                if i_d == encou['id']:\n",
    "                    cond_dict['estimated_time'] = (encou['period']['start'])\n",
    "            list.append(cond_dict)\n",
    "    arr = np.array(list)\n",
    "    dict[id] = arr\n",
    "            \n",
    "    \n",
    "            "
   ]
  },
  {
   "cell_type": "markdown",
   "id": "958dc46d-7e78-4cb5-a8f7-e2c476af9cc5",
   "metadata": {},
   "source": [
    "# Unix Format"
   ]
  },
  {
   "cell_type": "code",
   "execution_count": 7,
   "id": "c1be3731-7d92-43d5-9249-eb9631a42e77",
   "metadata": {},
   "outputs": [],
   "source": [
    "def unix_format(time_string):\n",
    "    # Parse the time string\n",
    "    dt = datetime.fromisoformat(time_string.replace('Z', '+00:00'))\n",
    "    # Convert to Unix timestamp\n",
    "    unix_time = dt.timestamp()\n",
    "    return unix_time\n"
   ]
  },
  {
   "cell_type": "code",
   "execution_count": 8,
   "id": "d4e9c704-223c-4203-bbc5-666bf2171823",
   "metadata": {},
   "outputs": [
    {
     "data": {
      "text/plain": [
       "6644651700.0"
      ]
     },
     "execution_count": 8,
     "metadata": {},
     "output_type": "execute_result"
    }
   ],
   "source": [
    "unix_format(dict[patient_id[0]][0]['estimated_time'])"
   ]
  },
  {
   "cell_type": "markdown",
   "id": "02be5634-f941-4e63-b9f7-bb22bb6d2768",
   "metadata": {},
   "source": [
    "# Creating DataFrame"
   ]
  },
  {
   "cell_type": "code",
   "execution_count": 9,
   "id": "079e1442-dd9a-4867-a431-712463af5d01",
   "metadata": {},
   "outputs": [
    {
     "data": {
      "text/html": [
       "<div>\n",
       "<style scoped>\n",
       "    .dataframe tbody tr th:only-of-type {\n",
       "        vertical-align: middle;\n",
       "    }\n",
       "\n",
       "    .dataframe tbody tr th {\n",
       "        vertical-align: top;\n",
       "    }\n",
       "\n",
       "    .dataframe thead th {\n",
       "        text-align: right;\n",
       "    }\n",
       "</style>\n",
       "<table border=\"1\" class=\"dataframe\">\n",
       "  <thead>\n",
       "    <tr style=\"text-align: right;\">\n",
       "      <th></th>\n",
       "      <th>pid</th>\n",
       "      <th>time</th>\n",
       "      <th>code</th>\n",
       "      <th>description</th>\n",
       "    </tr>\n",
       "  </thead>\n",
       "  <tbody>\n",
       "  </tbody>\n",
       "</table>\n",
       "</div>"
      ],
      "text/plain": [
       "Empty DataFrame\n",
       "Columns: [pid, time, code, description]\n",
       "Index: []"
      ]
     },
     "execution_count": 9,
     "metadata": {},
     "output_type": "execute_result"
    }
   ],
   "source": [
    "Column_name = ['pid',\n",
    "               'time',\n",
    "               'code',\n",
    "               'description']\n",
    "df = pd.DataFrame(columns=Column_name)\n",
    "df"
   ]
  },
  {
   "cell_type": "code",
   "execution_count": 10,
   "id": "40f92dc9-eacf-4cf2-8304-8f06ae0b899d",
   "metadata": {},
   "outputs": [
    {
     "name": "stderr",
     "output_type": "stream",
     "text": [
      "C:\\Users\\himan\\AppData\\Local\\Temp\\ipykernel_32336\\3877504377.py:13: FutureWarning: The behavior of DataFrame concatenation with empty or all-NA entries is deprecated. In a future version, this will no longer exclude empty or all-NA columns when determining the result dtypes. To retain the old behavior, exclude the relevant entries before the concat operation.\n",
      "  df = pd.concat([df,df2])\n"
     ]
    }
   ],
   "source": [
    "for p_id in dict:\n",
    "    for val in dict[p_id]:\n",
    "        code = (val['condition_json']['code']['coding'][0]['code'])\n",
    "        display = (val['condition_json']['code']['coding'][0]['display'])\n",
    "        time_unix = unix_format(val['estimated_time'])\n",
    "        temp_duct ={\n",
    "            'pid' : [p_id],\n",
    "            'time' : [time_unix],\n",
    "            'code' : [code],\n",
    "            'description' : [display]\n",
    "        }\n",
    "        df2 = pd.DataFrame(temp_duct)\n",
    "        df = pd.concat([df,df2])\n",
    "        "
   ]
  },
  {
   "cell_type": "code",
   "execution_count": 11,
   "id": "73d7d600-95ba-47a5-964e-a768126e19a2",
   "metadata": {},
   "outputs": [
    {
     "data": {
      "text/html": [
       "<div>\n",
       "<style scoped>\n",
       "    .dataframe tbody tr th:only-of-type {\n",
       "        vertical-align: middle;\n",
       "    }\n",
       "\n",
       "    .dataframe tbody tr th {\n",
       "        vertical-align: top;\n",
       "    }\n",
       "\n",
       "    .dataframe thead th {\n",
       "        text-align: right;\n",
       "    }\n",
       "</style>\n",
       "<table border=\"1\" class=\"dataframe\">\n",
       "  <thead>\n",
       "    <tr style=\"text-align: right;\">\n",
       "      <th></th>\n",
       "      <th>pid</th>\n",
       "      <th>time</th>\n",
       "      <th>code</th>\n",
       "      <th>description</th>\n",
       "    </tr>\n",
       "  </thead>\n",
       "  <tbody>\n",
       "    <tr>\n",
       "      <th>0</th>\n",
       "      <td>0a8eebfd-a352-522e-89f0-1d4a13abdebc</td>\n",
       "      <td>6.644652e+09</td>\n",
       "      <td>V462</td>\n",
       "      <td>Other dependence on machines, supplemental oxygen</td>\n",
       "    </tr>\n",
       "    <tr>\n",
       "      <th>0</th>\n",
       "      <td>0a8eebfd-a352-522e-89f0-1d4a13abdebc</td>\n",
       "      <td>6.642340e+09</td>\n",
       "      <td>78959</td>\n",
       "      <td>Other ascites</td>\n",
       "    </tr>\n",
       "    <tr>\n",
       "      <th>0</th>\n",
       "      <td>0a8eebfd-a352-522e-89f0-1d4a13abdebc</td>\n",
       "      <td>6.642340e+09</td>\n",
       "      <td>07071</td>\n",
       "      <td>Unspecified viral hepatitis C with hepatic coma</td>\n",
       "    </tr>\n",
       "    <tr>\n",
       "      <th>0</th>\n",
       "      <td>0a8eebfd-a352-522e-89f0-1d4a13abdebc</td>\n",
       "      <td>6.642340e+09</td>\n",
       "      <td>5715</td>\n",
       "      <td>Cirrhosis of liver without mention of alcohol</td>\n",
       "    </tr>\n",
       "    <tr>\n",
       "      <th>0</th>\n",
       "      <td>0a8eebfd-a352-522e-89f0-1d4a13abdebc</td>\n",
       "      <td>6.644652e+09</td>\n",
       "      <td>29680</td>\n",
       "      <td>Bipolar disorder, unspecified</td>\n",
       "    </tr>\n",
       "    <tr>\n",
       "      <th>...</th>\n",
       "      <td>...</td>\n",
       "      <td>...</td>\n",
       "      <td>...</td>\n",
       "      <td>...</td>\n",
       "    </tr>\n",
       "    <tr>\n",
       "      <th>0</th>\n",
       "      <td>fa5fbf9c-23e3-5ef3-9cfb-24d20a950314</td>\n",
       "      <td>6.563037e+09</td>\n",
       "      <td>2724</td>\n",
       "      <td>Other and unspecified hyperlipidemia</td>\n",
       "    </tr>\n",
       "    <tr>\n",
       "      <th>0</th>\n",
       "      <td>fa5fbf9c-23e3-5ef3-9cfb-24d20a950314</td>\n",
       "      <td>6.587320e+09</td>\n",
       "      <td>2761</td>\n",
       "      <td>Hyposmolality and/or hyponatremia</td>\n",
       "    </tr>\n",
       "    <tr>\n",
       "      <th>0</th>\n",
       "      <td>fa5fbf9c-23e3-5ef3-9cfb-24d20a950314</td>\n",
       "      <td>6.700351e+09</td>\n",
       "      <td>F419</td>\n",
       "      <td>Anxiety disorder, unspecified</td>\n",
       "    </tr>\n",
       "    <tr>\n",
       "      <th>0</th>\n",
       "      <td>fa5fbf9c-23e3-5ef3-9cfb-24d20a950314</td>\n",
       "      <td>6.613157e+09</td>\n",
       "      <td>2809</td>\n",
       "      <td>Iron deficiency anemia, unspecified</td>\n",
       "    </tr>\n",
       "    <tr>\n",
       "      <th>0</th>\n",
       "      <td>fa5fbf9c-23e3-5ef3-9cfb-24d20a950314</td>\n",
       "      <td>6.613157e+09</td>\n",
       "      <td>59969</td>\n",
       "      <td>Urinary obstruction, not elsewhere classified</td>\n",
       "    </tr>\n",
       "  </tbody>\n",
       "</table>\n",
       "<p>4181 rows × 4 columns</p>\n",
       "</div>"
      ],
      "text/plain": [
       "                                     pid          time   code  \\\n",
       "0   0a8eebfd-a352-522e-89f0-1d4a13abdebc  6.644652e+09   V462   \n",
       "0   0a8eebfd-a352-522e-89f0-1d4a13abdebc  6.642340e+09  78959   \n",
       "0   0a8eebfd-a352-522e-89f0-1d4a13abdebc  6.642340e+09  07071   \n",
       "0   0a8eebfd-a352-522e-89f0-1d4a13abdebc  6.642340e+09   5715   \n",
       "0   0a8eebfd-a352-522e-89f0-1d4a13abdebc  6.644652e+09  29680   \n",
       "..                                   ...           ...    ...   \n",
       "0   fa5fbf9c-23e3-5ef3-9cfb-24d20a950314  6.563037e+09   2724   \n",
       "0   fa5fbf9c-23e3-5ef3-9cfb-24d20a950314  6.587320e+09   2761   \n",
       "0   fa5fbf9c-23e3-5ef3-9cfb-24d20a950314  6.700351e+09   F419   \n",
       "0   fa5fbf9c-23e3-5ef3-9cfb-24d20a950314  6.613157e+09   2809   \n",
       "0   fa5fbf9c-23e3-5ef3-9cfb-24d20a950314  6.613157e+09  59969   \n",
       "\n",
       "                                          description  \n",
       "0   Other dependence on machines, supplemental oxygen  \n",
       "0                                       Other ascites  \n",
       "0     Unspecified viral hepatitis C with hepatic coma  \n",
       "0       Cirrhosis of liver without mention of alcohol  \n",
       "0                       Bipolar disorder, unspecified  \n",
       "..                                                ...  \n",
       "0                Other and unspecified hyperlipidemia  \n",
       "0                   Hyposmolality and/or hyponatremia  \n",
       "0                       Anxiety disorder, unspecified  \n",
       "0                 Iron deficiency anemia, unspecified  \n",
       "0       Urinary obstruction, not elsewhere classified  \n",
       "\n",
       "[4181 rows x 4 columns]"
      ]
     },
     "execution_count": 11,
     "metadata": {},
     "output_type": "execute_result"
    }
   ],
   "source": [
    "df"
   ]
  },
  {
   "cell_type": "code",
   "execution_count": 12,
   "id": "7e1507e0-f957-4019-b043-bd7df65b97d2",
   "metadata": {},
   "outputs": [],
   "source": [
    "# Saving File\n",
    "df.to_excel('./Output_File.xlsx', index=False)"
   ]
  },
  {
   "cell_type": "markdown",
   "id": "cad0deb5-714a-4cb2-a44e-1c4c9ddc715a",
   "metadata": {},
   "source": [
    "# Note:\n",
    "## Since multiple conditions are assigned to a single person, I have created new rows for each condition having same pid name"
   ]
  },
  {
   "cell_type": "code",
   "execution_count": null,
   "id": "061658af-775f-4655-9de4-c6c612ce44fc",
   "metadata": {},
   "outputs": [],
   "source": []
  }
 ],
 "metadata": {
  "kernelspec": {
   "display_name": "Python 3 (ipykernel)",
   "language": "python",
   "name": "python3"
  },
  "language_info": {
   "codemirror_mode": {
    "name": "ipython",
    "version": 3
   },
   "file_extension": ".py",
   "mimetype": "text/x-python",
   "name": "python",
   "nbconvert_exporter": "python",
   "pygments_lexer": "ipython3",
   "version": "3.12.1"
  }
 },
 "nbformat": 4,
 "nbformat_minor": 5
}
